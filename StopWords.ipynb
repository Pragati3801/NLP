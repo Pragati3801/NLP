{
 "cells": [
  {
   "cell_type": "code",
   "execution_count": 1,
   "id": "8c6b60a5",
   "metadata": {},
   "outputs": [],
   "source": [
    "import spacy\n",
    "nlp=spacy.load('en_core_web_sm')\n"
   ]
  },
  {
   "cell_type": "code",
   "execution_count": 2,
   "id": "2730a096",
   "metadata": {},
   "outputs": [],
   "source": [
    "doc=nlp(\"Thor: Love and Thunder is a 2022 American superhero film based on Marvel Comics featuring the character Thor, produced by Marvel Studios and distributed by Walt Disney Studios Motion Pictures. It is the sequel to Thor: Ragnarok (2017) and the 29th film in the Marvel Cinematic Universe (MCU).The film is directed by Taika Waititi, who co-wrote the script with Jennifer Kaytin Robinson, and stars Chris Hemsworth as Thor alongside Christian Bale, Tessa Thompson,Jaimie Alexander, Waititi, Russell Crowe, and Natalie Portman. In the film, Thor attempts to find inner peace, but must return to action and recruit Valkyrie (Thompson),Korg (Waititi), and Jane Foster (Portman)—who is now the Mighty Thor—to stop Gorr the God Butcher (Bale) from eliminating all gods.\")"
   ]
  },
  {
   "cell_type": "code",
   "execution_count": 5,
   "id": "6d8bdfe8",
   "metadata": {},
   "outputs": [
    {
     "data": {
      "text/plain": [
       "['Thor',\n",
       " 'Love',\n",
       " 'Thunder',\n",
       " '2022',\n",
       " 'American',\n",
       " 'superhero',\n",
       " 'film',\n",
       " 'based',\n",
       " 'Marvel',\n",
       " 'Comics',\n",
       " 'featuring',\n",
       " 'character',\n",
       " 'Thor',\n",
       " 'produced',\n",
       " 'Marvel',\n",
       " 'Studios',\n",
       " 'distributed',\n",
       " 'Walt',\n",
       " 'Disney',\n",
       " 'Studios',\n",
       " 'Motion',\n",
       " 'Pictures',\n",
       " 'sequel',\n",
       " 'Thor',\n",
       " 'Ragnarok',\n",
       " '2017',\n",
       " '29th',\n",
       " 'film',\n",
       " 'Marvel',\n",
       " 'Cinematic',\n",
       " 'Universe',\n",
       " 'MCU).The',\n",
       " 'film',\n",
       " 'directed',\n",
       " 'Taika',\n",
       " 'Waititi',\n",
       " 'co',\n",
       " 'wrote',\n",
       " 'script',\n",
       " 'Jennifer',\n",
       " 'Kaytin',\n",
       " 'Robinson',\n",
       " 'stars',\n",
       " 'Chris',\n",
       " 'Hemsworth',\n",
       " 'Thor',\n",
       " 'alongside',\n",
       " 'Christian',\n",
       " 'Bale',\n",
       " 'Tessa',\n",
       " 'Thompson',\n",
       " 'Jaimie',\n",
       " 'Alexander',\n",
       " 'Waititi',\n",
       " 'Russell',\n",
       " 'Crowe',\n",
       " 'Natalie',\n",
       " 'Portman',\n",
       " 'film',\n",
       " 'Thor',\n",
       " 'attempts',\n",
       " 'find',\n",
       " 'inner',\n",
       " 'peace',\n",
       " 'return',\n",
       " 'action',\n",
       " 'recruit',\n",
       " 'Valkyrie',\n",
       " 'Thompson),Korg',\n",
       " 'Waititi',\n",
       " 'Jane',\n",
       " 'Foster',\n",
       " 'Portman)—who',\n",
       " 'Mighty',\n",
       " 'Thor',\n",
       " 'stop',\n",
       " 'Gorr',\n",
       " 'God',\n",
       " 'Butcher',\n",
       " 'Bale',\n",
       " 'eliminating',\n",
       " 'gods']"
      ]
     },
     "execution_count": 5,
     "metadata": {},
     "output_type": "execute_result"
    }
   ],
   "source": [
    "no_stop_words=[token.text for token in doc if not token.is_stop and not token.is_punct]\n",
    "no_stop_words\n",
    "        \n",
    "        "
   ]
  },
  {
   "cell_type": "code",
   "execution_count": null,
   "id": "37795e6d",
   "metadata": {},
   "outputs": [],
   "source": []
  }
 ],
 "metadata": {
  "kernelspec": {
   "display_name": "Python 3 (ipykernel)",
   "language": "python",
   "name": "python3"
  },
  "language_info": {
   "codemirror_mode": {
    "name": "ipython",
    "version": 3
   },
   "file_extension": ".py",
   "mimetype": "text/x-python",
   "name": "python",
   "nbconvert_exporter": "python",
   "pygments_lexer": "ipython3",
   "version": "3.11.4"
  }
 },
 "nbformat": 4,
 "nbformat_minor": 5
}
