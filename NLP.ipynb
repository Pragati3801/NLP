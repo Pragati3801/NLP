{
 "cells": [
  {
   "cell_type": "code",
   "execution_count": 3,
   "id": "38c60abe",
   "metadata": {},
   "outputs": [],
   "source": [
    "import spacy"
   ]
  },
  {
   "cell_type": "code",
   "execution_count": 4,
   "id": "134c8110",
   "metadata": {},
   "outputs": [
    {
     "name": "stdout",
     "output_type": "stream",
     "text": [
      "Dr.\n",
      "Strange\n",
      "loves\n",
      "pav\n",
      "bhaji\n",
      "of\n",
      "mumbai\n",
      "as\n",
      "it\n",
      "costs\n",
      "only\n",
      "2\n",
      "$\n",
      "per\n",
      "plate\n",
      ".\n"
     ]
    }
   ],
   "source": [
    "nlp = spacy.blank(\"en\")\n",
    "\n",
    "doc = nlp(\"Dr. Strange loves pav bhaji of mumbai as it costs only 2$ per plate.\")\n",
    "\n",
    "for token in doc:\n",
    "    print(token)"
   ]
  },
  {
   "cell_type": "code",
   "execution_count": 5,
   "id": "e59adf64",
   "metadata": {},
   "outputs": [
    {
     "data": {
      "text/plain": [
       "['Look for data to help you address the question. Governments are good\\n',\n",
       " 'sources because data from public research is often freely available. Good\\n',\n",
       " 'places to start include http://www.data.gov/, and http://www.science.\\n',\n",
       " 'gov/, and in the United Kingdom, http://data.gov.uk/.\\n',\n",
       " 'Two of my favorite data sets are the General Social Survey at http://www3.norc.org/gss+website/, \\n',\n",
       " 'and the European Social Survey at http://www.europeansocialsurvey.org/.']"
      ]
     },
     "execution_count": 5,
     "metadata": {},
     "output_type": "execute_result"
    }
   ],
   "source": [
    "with open(\"students.txt\") as f:\n",
    "    text = f.readlines()\n",
    "text"
   ]
  },
  {
   "cell_type": "code",
   "execution_count": 6,
   "id": "2998d428",
   "metadata": {},
   "outputs": [
    {
     "data": {
      "text/plain": [
       "'Look for data to help you address the question. Governments are good\\n sources because data from public research is often freely available. Good\\n places to start include http://www.data.gov/, and http://www.science.\\n gov/, and in the United Kingdom, http://data.gov.uk/.\\n Two of my favorite data sets are the General Social Survey at http://www3.norc.org/gss+website/, \\n and the European Social Survey at http://www.europeansocialsurvey.org/.'"
      ]
     },
     "execution_count": 6,
     "metadata": {},
     "output_type": "execute_result"
    }
   ],
   "source": [
    "text=\" \".join(text)\n",
    "text"
   ]
  },
  {
   "cell_type": "code",
   "execution_count": 8,
   "id": "5f8a947e",
   "metadata": {},
   "outputs": [
    {
     "data": {
      "text/plain": [
       "[http://www.data.gov/,\n",
       " http://www.science,\n",
       " http://data.gov.uk/.,\n",
       " http://www3.norc.org/gss+website/,\n",
       " http://www.europeansocialsurvey.org/.]"
      ]
     },
     "execution_count": 8,
     "metadata": {},
     "output_type": "execute_result"
    }
   ],
   "source": [
    "doc=nlp(text)\n",
    "url=[]\n",
    "for token in doc:\n",
    "    if token.like_url:\n",
    "        url.append(token)\n",
    "url"
   ]
  },
  {
   "cell_type": "code",
   "execution_count": 12,
   "id": "68c54a5c",
   "metadata": {},
   "outputs": [
    {
     "data": {
      "text/plain": [
       "['two$', '500€']"
      ]
     },
     "execution_count": 12,
     "metadata": {},
     "output_type": "execute_result"
    }
   ],
   "source": [
    "transactions = \"Tony gave two $ to Peter, Bruce gave 500 € to Steve\"\n",
    "doc=nlp(transactions)\n",
    "trans=[]\n",
    "for token in doc:\n",
    "     if token.like_num and doc[token.i+1].is_currency:\n",
    "        trans.append(token.text +doc[token.i+1].text)  \n",
    "trans"
   ]
  },
  {
   "cell_type": "code",
   "execution_count": null,
   "id": "bf389102",
   "metadata": {},
   "outputs": [],
   "source": []
  }
 ],
 "metadata": {
  "kernelspec": {
   "display_name": "Python 3 (ipykernel)",
   "language": "python",
   "name": "python3"
  },
  "language_info": {
   "codemirror_mode": {
    "name": "ipython",
    "version": 3
   },
   "file_extension": ".py",
   "mimetype": "text/x-python",
   "name": "python",
   "nbconvert_exporter": "python",
   "pygments_lexer": "ipython3",
   "version": "3.11.4"
  }
 },
 "nbformat": 4,
 "nbformat_minor": 5
}
